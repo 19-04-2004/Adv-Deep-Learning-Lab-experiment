{
  "nbformat": 4,
  "nbformat_minor": 0,
  "metadata": {
    "colab": {
      "provenance": [],
      "authorship_tag": "ABX9TyN5+H0AQBCE/DI3QEJk8e6m",
      "include_colab_link": true
    },
    "kernelspec": {
      "name": "python3",
      "display_name": "Python 3"
    },
    "language_info": {
      "name": "python"
    }
  },
  "cells": [
    {
      "cell_type": "markdown",
      "metadata": {
        "id": "view-in-github",
        "colab_type": "text"
      },
      "source": [
        "<a href=\"https://colab.research.google.com/github/19-04-2004/Adv-Deep-Learning-Lab-experiment/blob/main/Untitled8.ipynb\" target=\"_parent\"><img src=\"https://colab.research.google.com/assets/colab-badge.svg\" alt=\"Open In Colab\"/></a>"
      ]
    },
    {
      "cell_type": "code",
      "execution_count": 1,
      "metadata": {
        "colab": {
          "base_uri": "https://localhost:8080/"
        },
        "id": "Oyc9r5nqFaTk",
        "outputId": "da6e80e8-ba01-48bb-9425-893554bc71f2"
      },
      "outputs": [
        {
          "output_type": "stream",
          "name": "stdout",
          "text": [
            "Epoch 1/10\n",
            "20/20 [==============================] - 1s 14ms/step - loss: 0.7031 - accuracy: 0.4219 - val_loss: 0.6861 - val_accuracy: 0.6375\n",
            "Epoch 2/10\n",
            "20/20 [==============================] - 0s 3ms/step - loss: 0.6798 - accuracy: 0.5156 - val_loss: 0.6577 - val_accuracy: 0.5875\n",
            "Epoch 3/10\n",
            "20/20 [==============================] - 0s 4ms/step - loss: 0.6602 - accuracy: 0.5266 - val_loss: 0.6341 - val_accuracy: 0.6062\n",
            "Epoch 4/10\n",
            "20/20 [==============================] - 0s 4ms/step - loss: 0.6408 - accuracy: 0.5766 - val_loss: 0.6128 - val_accuracy: 0.6500\n",
            "Epoch 5/10\n",
            "20/20 [==============================] - 0s 6ms/step - loss: 0.6202 - accuracy: 0.6297 - val_loss: 0.5903 - val_accuracy: 0.6750\n",
            "Epoch 6/10\n",
            "20/20 [==============================] - 0s 3ms/step - loss: 0.5978 - accuracy: 0.6938 - val_loss: 0.5685 - val_accuracy: 0.7125\n",
            "Epoch 7/10\n",
            "20/20 [==============================] - 0s 3ms/step - loss: 0.5742 - accuracy: 0.7375 - val_loss: 0.5446 - val_accuracy: 0.7625\n",
            "Epoch 8/10\n",
            "20/20 [==============================] - 0s 4ms/step - loss: 0.5493 - accuracy: 0.7922 - val_loss: 0.5224 - val_accuracy: 0.8250\n",
            "Epoch 9/10\n",
            "20/20 [==============================] - 0s 3ms/step - loss: 0.5240 - accuracy: 0.8016 - val_loss: 0.4972 - val_accuracy: 0.8375\n",
            "Epoch 10/10\n",
            "20/20 [==============================] - 0s 4ms/step - loss: 0.4986 - accuracy: 0.8313 - val_loss: 0.4753 - val_accuracy: 0.8875\n",
            "7/7 [==============================] - 0s 4ms/step\n",
            "Test accuracy: 0.8450\n"
          ]
        }
      ],
      "source": [
        "import numpy as np\n",
        "import tensorflow as tf\n",
        "from tensorflow.keras.models import Sequential\n",
        "from tensorflow.keras.layers import Dense,Input\n",
        "from sklearn.model_selection import train_test_split\n",
        "from sklearn.metrics import accuracy_score\n",
        "np.random.seed(42)\n",
        "X = np.random.rand(1000, 2)\n",
        "y = (X[:, 0] + X[:, 1] > 1).astype(int)\n",
        "X_train, X_test, y_train, y_test = train_test_split(X, y, test_size=0.2,\n",
        "random_state=42)\n",
        "model = Sequential([Input(shape=(2)),Dense(64, activation='relu'),Dense(1,\n",
        "activation='sigmoid')])\n",
        "model.compile(optimizer='adam',loss='binary_crossentropy',metrics=['accuracy'])\n",
        "model.fit(X_train, y_train, epochs=10, batch_size=32, validation_split=0.2)\n",
        "y_pred = model.predict(X_test)\n",
        "y_pred_binary = (y_pred > 0.5).astype(int)\n",
        "test_accuracy = accuracy_score(y_test, y_pred_binary)\n",
        "print(f\"Test accuracy: {test_accuracy:.4f}\")"
      ]
    }
  ]
}